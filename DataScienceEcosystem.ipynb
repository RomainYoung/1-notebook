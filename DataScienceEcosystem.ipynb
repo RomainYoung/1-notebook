{
 "cells": [
  {
   "cell_type": "markdown",
   "id": "7db238cf-91c5-47ed-8a67-46ef63c8962f",
   "metadata": {},
   "source": [
    "# Data Science Tools and Ecosystem"
   ]
  },
  {
   "cell_type": "markdown",
   "id": "deb9c0cf-1912-458f-ada4-01a0a173fbdc",
   "metadata": {},
   "source": [
    "In this notebook, Data Science Tools and Ecosystem are summarized."
   ]
  },
  {
   "cell_type": "markdown",
   "id": "9ddf7e60-f39d-485a-bb0a-0040a37f9e79",
   "metadata": {},
   "source": [
    "Some of the popular languages that Data Scientists use are :"
   ]
  },
  {
   "cell_type": "markdown",
   "id": "0cf882da-6493-40e6-984b-81802e8fbcde",
   "metadata": {},
   "source": [
    "1. Python\n",
    "2. R\n",
    "3. SQL\n",
    "4. Scala"
   ]
  },
  {
   "cell_type": "markdown",
   "id": "1d8f8098-0be0-454a-9b63-cd6c2e9b10db",
   "metadata": {},
   "source": [
    "Some of the commonly used libraries used by Data Scientists are :"
   ]
  },
  {
   "cell_type": "markdown",
   "id": "b517b92a-9155-4818-b250-c60e478120dd",
   "metadata": {},
   "source": [
    "1. Pandas\n",
    "2. Numpy\n",
    "3. Matplotlib\n",
    "4. Seaborm\n",
    "5. Keras\n",
    "6. TensorFlow\n",
    "7. Pytorch"
   ]
  },
  {
   "cell_type": "markdown",
   "id": "ffaf20f6-54be-4aad-a4d7-6acd9caefe24",
   "metadata": {},
   "source": [
    "### Below are a few examples of evaluating arithmetic expressions in Python :"
   ]
  },
  {
   "cell_type": "code",
   "execution_count": 1,
   "id": "134db5b9-4768-43fc-bb8e-9b95b4049271",
   "metadata": {},
   "outputs": [
    {
     "data": {
      "text/plain": [
       "17"
      ]
     },
     "execution_count": 1,
     "metadata": {},
     "output_type": "execute_result"
    }
   ],
   "source": [
    "## This is a simple arithmetic expression to multiply then add integers\n",
    "\n",
    "(3*4)+5"
   ]
  },
  {
   "cell_type": "code",
   "execution_count": null,
   "id": "1752cf22-be4d-4de5-82b2-eab42d8becb9",
   "metadata": {},
   "outputs": [],
   "source": [
    "## This will convert 200 minutes to hours by dividing by 60\n",
    "\n",
    "200/60"
   ]
  }
 ],
 "metadata": {
  "kernelspec": {
   "display_name": "Python 3 (ipykernel)",
   "language": "python",
   "name": "python3"
  },
  "language_info": {
   "codemirror_mode": {
    "name": "ipython",
    "version": 3
   },
   "file_extension": ".py",
   "mimetype": "text/x-python",
   "name": "python",
   "nbconvert_exporter": "python",
   "pygments_lexer": "ipython3",
   "version": "3.11.9"
  }
 },
 "nbformat": 4,
 "nbformat_minor": 5
}
